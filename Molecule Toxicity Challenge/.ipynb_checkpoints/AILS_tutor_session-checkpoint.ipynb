{
 "cells": [
  {
   "cell_type": "code",
   "execution_count": 1,
   "metadata": {},
   "outputs": [
    {
     "ename": "ModuleNotFoundError",
     "evalue": "No module named 'xgboost'",
     "output_type": "error",
     "traceback": [
      "\u001b[1;31m---------------------------------------------------------------------------\u001b[0m",
      "\u001b[1;31mModuleNotFoundError\u001b[0m                       Traceback (most recent call last)",
      "\u001b[1;32m<ipython-input-1-4f42405392d3>\u001b[0m in \u001b[0;36m<module>\u001b[1;34m\u001b[0m\n\u001b[0;32m     14\u001b[0m \u001b[1;33m\u001b[0m\u001b[0m\n\u001b[0;32m     15\u001b[0m \u001b[1;33m\u001b[0m\u001b[0m\n\u001b[1;32m---> 16\u001b[1;33m \u001b[1;32mfrom\u001b[0m \u001b[0mxgboost\u001b[0m \u001b[1;32mimport\u001b[0m \u001b[0mXGBClassifier\u001b[0m\u001b[1;33m\u001b[0m\u001b[1;33m\u001b[0m\u001b[0m\n\u001b[0m\u001b[0;32m     17\u001b[0m \u001b[1;32mfrom\u001b[0m \u001b[0msklearn\u001b[0m\u001b[1;33m.\u001b[0m\u001b[0msvm\u001b[0m \u001b[1;32mimport\u001b[0m \u001b[0mSVC\u001b[0m\u001b[1;33m,\u001b[0m \u001b[0mSVR\u001b[0m\u001b[1;33m\u001b[0m\u001b[1;33m\u001b[0m\u001b[0m\n\u001b[0;32m     18\u001b[0m \u001b[1;32mfrom\u001b[0m \u001b[0msklearn\u001b[0m\u001b[1;33m.\u001b[0m\u001b[0mneural_network\u001b[0m \u001b[1;32mimport\u001b[0m \u001b[0mMLPClassifier\u001b[0m\u001b[1;33m\u001b[0m\u001b[1;33m\u001b[0m\u001b[0m\n",
      "\u001b[1;31mModuleNotFoundError\u001b[0m: No module named 'xgboost'"
     ]
    }
   ],
   "source": [
    "from sklearn import model_selection, svm, metrics\n",
    "from sklearn.neighbors import KNeighborsClassifier\n",
    "from sklearn.linear_model import  LogisticRegression\n",
    "from sklearn.preprocessing import StandardScaler \n",
    "import pandas as pd\n",
    "import numpy as np\n",
    "import seaborn as sns\n",
    "import matplotlib.pyplot as plt\n",
    "\n",
    "import torch\n",
    "import torch.nn as nn\n",
    "import torch.optim as optim\n",
    "from torch.utils.data import Dataset, DataLoader\n",
    "\n",
    "\n",
    "from xgboost import XGBClassifier\n",
    "from sklearn.svm import SVC, SVR\n",
    "from sklearn.neural_network import MLPClassifier\n",
    "from sklearn.model_selection import GridSearchCV, RepeatedStratifiedKFold, cross_val_score, train_test_split\n",
    "from xgboost import XGBClassifier\n",
    "\n",
    "import os\n",
    "\n",
    "import rdkit\n",
    "from rdkit import Chem\n",
    "from rdkit.Chem import AllChem, Draw, DataStructs, PandasTools\n",
    "from rdkit.Chem.Draw import IPythonConsole\n",
    "\n",
    "from sklearn.ensemble import AdaBoostRegressor, RandomForestRegressor, BaggingRegressor\n",
    "from sklearn.metrics import roc_auc_score, confusion_matrix\n",
    "from sklearn.ensemble import RandomForestClassifier, VotingClassifier, GradientBoostingClassifier, AdaBoostClassifier\n",
    "from sklearn.naive_bayes import GaussianNB\n",
    "from sklearn.utils import resample\n",
    "from sklearn.kernel_ridge import KernelRidge\n",
    "from sklearn.metrics import classification_report, accuracy_score, plot_roc_curve\n",
    "from sklearn.gaussian_process import GaussianProcessClassifier\n",
    "from sklearn.gaussian_process.kernels import RBF\n",
    "from sklearn.discriminant_analysis import QuadraticDiscriminantAnalysis\n",
    "from imblearn.ensemble import BalancedBaggingClassifier, EasyEnsembleClassifier, BalancedRandomForestClassifier\n",
    "from imblearn.under_sampling import TomekLinks, NearMiss, RandomUnderSampler\n",
    "from sklearn.linear_model import SGDClassifier\n",
    "from sklearn.pipeline import make_pipeline\n",
    "\n",
    "from imblearn.under_sampling import (RandomUnderSampler, \n",
    "                                     ClusterCentroids,\n",
    "                                     TomekLinks,\n",
    "                                     NeighbourhoodCleaningRule,\n",
    "                                     NearMiss,\n",
    "                                     AllKNN,\n",
    "                                     EditedNearestNeighbours)"
   ]
  },
  {
   "cell_type": "code",
   "execution_count": 3,
   "metadata": {},
   "outputs": [],
   "source": [
    "import warnings\n",
    "warnings.filterwarnings(\"ignore\")"
   ]
  },
  {
   "cell_type": "markdown",
   "metadata": {},
   "source": [
    "### Preprocessing"
   ]
  },
  {
   "cell_type": "code",
   "execution_count": 4,
   "metadata": {},
   "outputs": [],
   "source": [
    "x = pd.read_csv('data_train.csv')\n",
    "x_real_test = pd.read_csv('smiles_test.csv', encoding='utf-8')"
   ]
  },
  {
   "cell_type": "code",
   "execution_count": 5,
   "metadata": {},
   "outputs": [],
   "source": [
    "x = x.drop('Unnamed: 0', 1)\n",
    "x_real_test = x_real_test.drop('Unnamed: 0', 1)"
   ]
  },
  {
   "cell_type": "code",
   "execution_count": 6,
   "metadata": {},
   "outputs": [
    {
     "data": {
      "text/html": [
       "<div>\n",
       "<style scoped>\n",
       "    .dataframe tbody tr th:only-of-type {\n",
       "        vertical-align: middle;\n",
       "    }\n",
       "\n",
       "    .dataframe tbody tr th {\n",
       "        vertical-align: top;\n",
       "    }\n",
       "\n",
       "    .dataframe thead th {\n",
       "        text-align: right;\n",
       "    }\n",
       "</style>\n",
       "<table border=\"1\" class=\"dataframe\">\n",
       "  <thead>\n",
       "    <tr style=\"text-align: right;\">\n",
       "      <th></th>\n",
       "      <th>smiles</th>\n",
       "      <th>task1</th>\n",
       "      <th>task2</th>\n",
       "      <th>task3</th>\n",
       "      <th>task4</th>\n",
       "      <th>task5</th>\n",
       "      <th>task6</th>\n",
       "      <th>task7</th>\n",
       "      <th>task8</th>\n",
       "      <th>task9</th>\n",
       "      <th>task10</th>\n",
       "      <th>task11</th>\n",
       "    </tr>\n",
       "  </thead>\n",
       "  <tbody>\n",
       "    <tr>\n",
       "      <th>0</th>\n",
       "      <td>CC1=NN(c2ccc(C)c(C)c2)C(=O)C1N=Nc1cccc(-c2cccc...</td>\n",
       "      <td>0</td>\n",
       "      <td>0</td>\n",
       "      <td>0</td>\n",
       "      <td>0</td>\n",
       "      <td>0</td>\n",
       "      <td>0</td>\n",
       "      <td>0</td>\n",
       "      <td>0</td>\n",
       "      <td>0</td>\n",
       "      <td>0</td>\n",
       "      <td>0</td>\n",
       "    </tr>\n",
       "    <tr>\n",
       "      <th>1</th>\n",
       "      <td>CCOP(=S)(OCC)Oc1ccc(S(C)=O)cc1</td>\n",
       "      <td>0</td>\n",
       "      <td>0</td>\n",
       "      <td>0</td>\n",
       "      <td>0</td>\n",
       "      <td>0</td>\n",
       "      <td>0</td>\n",
       "      <td>0</td>\n",
       "      <td>0</td>\n",
       "      <td>-1</td>\n",
       "      <td>-1</td>\n",
       "      <td>0</td>\n",
       "    </tr>\n",
       "    <tr>\n",
       "      <th>2</th>\n",
       "      <td>CN(c1ccccc1CN=c1[nH]c(Nc2ccc3c(c2)CC(=O)N3)ncc...</td>\n",
       "      <td>0</td>\n",
       "      <td>0</td>\n",
       "      <td>0</td>\n",
       "      <td>0</td>\n",
       "      <td>0</td>\n",
       "      <td>0</td>\n",
       "      <td>0</td>\n",
       "      <td>-1</td>\n",
       "      <td>0</td>\n",
       "      <td>0</td>\n",
       "      <td>0</td>\n",
       "    </tr>\n",
       "    <tr>\n",
       "      <th>3</th>\n",
       "      <td>CC#CC1(O)CCC2C3CCC4=CC(=O)CCC4=C3C(c3ccc(N(C)C...</td>\n",
       "      <td>0</td>\n",
       "      <td>0</td>\n",
       "      <td>0</td>\n",
       "      <td>0</td>\n",
       "      <td>0</td>\n",
       "      <td>0</td>\n",
       "      <td>0</td>\n",
       "      <td>0</td>\n",
       "      <td>1</td>\n",
       "      <td>1</td>\n",
       "      <td>1</td>\n",
       "    </tr>\n",
       "    <tr>\n",
       "      <th>4</th>\n",
       "      <td>O=C(O)C1(C(O)=Nc2ccc(Cl)cc2Cl)CC1</td>\n",
       "      <td>0</td>\n",
       "      <td>0</td>\n",
       "      <td>0</td>\n",
       "      <td>0</td>\n",
       "      <td>0</td>\n",
       "      <td>0</td>\n",
       "      <td>0</td>\n",
       "      <td>0</td>\n",
       "      <td>0</td>\n",
       "      <td>1</td>\n",
       "      <td>0</td>\n",
       "    </tr>\n",
       "    <tr>\n",
       "      <th>...</th>\n",
       "      <td>...</td>\n",
       "      <td>...</td>\n",
       "      <td>...</td>\n",
       "      <td>...</td>\n",
       "      <td>...</td>\n",
       "      <td>...</td>\n",
       "      <td>...</td>\n",
       "      <td>...</td>\n",
       "      <td>...</td>\n",
       "      <td>...</td>\n",
       "      <td>...</td>\n",
       "      <td>...</td>\n",
       "    </tr>\n",
       "    <tr>\n",
       "      <th>11995</th>\n",
       "      <td>C[C@]12CC(=O)C3C(CCC4=CC(=O)CC[C@@]43C)C1CC[C@...</td>\n",
       "      <td>0</td>\n",
       "      <td>0</td>\n",
       "      <td>0</td>\n",
       "      <td>0</td>\n",
       "      <td>0</td>\n",
       "      <td>0</td>\n",
       "      <td>0</td>\n",
       "      <td>-1</td>\n",
       "      <td>0</td>\n",
       "      <td>0</td>\n",
       "      <td>0</td>\n",
       "    </tr>\n",
       "    <tr>\n",
       "      <th>11996</th>\n",
       "      <td>CC(=Cc1ccc(C(=O)O)cc1)c1ccc2c(c1)C(C)(C)CCC2(C)C</td>\n",
       "      <td>0</td>\n",
       "      <td>0</td>\n",
       "      <td>0</td>\n",
       "      <td>0</td>\n",
       "      <td>0</td>\n",
       "      <td>0</td>\n",
       "      <td>0</td>\n",
       "      <td>0</td>\n",
       "      <td>0</td>\n",
       "      <td>0</td>\n",
       "      <td>0</td>\n",
       "    </tr>\n",
       "    <tr>\n",
       "      <th>11997</th>\n",
       "      <td>OC[C@H]1NC[C@@H](O)[C@@H](O)[C@@H]1O</td>\n",
       "      <td>0</td>\n",
       "      <td>0</td>\n",
       "      <td>0</td>\n",
       "      <td>0</td>\n",
       "      <td>0</td>\n",
       "      <td>0</td>\n",
       "      <td>0</td>\n",
       "      <td>-1</td>\n",
       "      <td>0</td>\n",
       "      <td>0</td>\n",
       "      <td>0</td>\n",
       "    </tr>\n",
       "    <tr>\n",
       "      <th>11998</th>\n",
       "      <td>CN(C)CCCN1c2ccccc2C(C)(C)c2ccccc21</td>\n",
       "      <td>0</td>\n",
       "      <td>0</td>\n",
       "      <td>1</td>\n",
       "      <td>0</td>\n",
       "      <td>0</td>\n",
       "      <td>0</td>\n",
       "      <td>0</td>\n",
       "      <td>0</td>\n",
       "      <td>1</td>\n",
       "      <td>-1</td>\n",
       "      <td>0</td>\n",
       "    </tr>\n",
       "    <tr>\n",
       "      <th>11999</th>\n",
       "      <td>Nc1ccc(Cl)cc1C(=O)c1ccccc1F</td>\n",
       "      <td>0</td>\n",
       "      <td>0</td>\n",
       "      <td>0</td>\n",
       "      <td>0</td>\n",
       "      <td>0</td>\n",
       "      <td>0</td>\n",
       "      <td>0</td>\n",
       "      <td>0</td>\n",
       "      <td>0</td>\n",
       "      <td>0</td>\n",
       "      <td>0</td>\n",
       "    </tr>\n",
       "  </tbody>\n",
       "</table>\n",
       "<p>12000 rows × 12 columns</p>\n",
       "</div>"
      ],
      "text/plain": [
       "                                                  smiles  task1  task2  task3  \\\n",
       "0      CC1=NN(c2ccc(C)c(C)c2)C(=O)C1N=Nc1cccc(-c2cccc...      0      0      0   \n",
       "1                         CCOP(=S)(OCC)Oc1ccc(S(C)=O)cc1      0      0      0   \n",
       "2      CN(c1ccccc1CN=c1[nH]c(Nc2ccc3c(c2)CC(=O)N3)ncc...      0      0      0   \n",
       "3      CC#CC1(O)CCC2C3CCC4=CC(=O)CCC4=C3C(c3ccc(N(C)C...      0      0      0   \n",
       "4                      O=C(O)C1(C(O)=Nc2ccc(Cl)cc2Cl)CC1      0      0      0   \n",
       "...                                                  ...    ...    ...    ...   \n",
       "11995  C[C@]12CC(=O)C3C(CCC4=CC(=O)CC[C@@]43C)C1CC[C@...      0      0      0   \n",
       "11996   CC(=Cc1ccc(C(=O)O)cc1)c1ccc2c(c1)C(C)(C)CCC2(C)C      0      0      0   \n",
       "11997               OC[C@H]1NC[C@@H](O)[C@@H](O)[C@@H]1O      0      0      0   \n",
       "11998                 CN(C)CCCN1c2ccccc2C(C)(C)c2ccccc21      0      0      1   \n",
       "11999                        Nc1ccc(Cl)cc1C(=O)c1ccccc1F      0      0      0   \n",
       "\n",
       "       task4  task5  task6  task7  task8  task9  task10  task11  \n",
       "0          0      0      0      0      0      0       0       0  \n",
       "1          0      0      0      0      0     -1      -1       0  \n",
       "2          0      0      0      0     -1      0       0       0  \n",
       "3          0      0      0      0      0      1       1       1  \n",
       "4          0      0      0      0      0      0       1       0  \n",
       "...      ...    ...    ...    ...    ...    ...     ...     ...  \n",
       "11995      0      0      0      0     -1      0       0       0  \n",
       "11996      0      0      0      0      0      0       0       0  \n",
       "11997      0      0      0      0     -1      0       0       0  \n",
       "11998      0      0      0      0      0      1      -1       0  \n",
       "11999      0      0      0      0      0      0       0       0  \n",
       "\n",
       "[12000 rows x 12 columns]"
      ]
     },
     "execution_count": 6,
     "metadata": {},
     "output_type": "execute_result"
    }
   ],
   "source": [
    "x"
   ]
  },
  {
   "cell_type": "code",
   "execution_count": 7,
   "metadata": {},
   "outputs": [],
   "source": [
    "y1 = x[\"task1\"]\n",
    "y2 = x[\"task2\"]\n",
    "y3 = x[\"task3\"]\n",
    "y4 = x[\"task4\"]\n",
    "y5 = x[\"task5\"]\n",
    "y6 = x[\"task6\"]\n",
    "y7 = x[\"task7\"]\n",
    "y8 = x[\"task8\"]\n",
    "y9 = x[\"task9\"]\n",
    "y10 = x[\"task10\"]\n",
    "y11 = x[\"task11\"]"
   ]
  },
  {
   "cell_type": "code",
   "execution_count": 8,
   "metadata": {},
   "outputs": [
    {
     "ename": "NameError",
     "evalue": "name 'Chem' is not defined",
     "output_type": "error",
     "traceback": [
      "\u001b[1;31m---------------------------------------------------------------------------\u001b[0m",
      "\u001b[1;31mNameError\u001b[0m                                 Traceback (most recent call last)",
      "\u001b[1;32m<ipython-input-8-144889a3d322>\u001b[0m in \u001b[0;36m<module>\u001b[1;34m\u001b[0m\n\u001b[0;32m      5\u001b[0m \u001b[1;33m\u001b[0m\u001b[0m\n\u001b[0;32m      6\u001b[0m \u001b[1;32mfor\u001b[0m \u001b[0msmiles\u001b[0m \u001b[1;32min\u001b[0m \u001b[0mx\u001b[0m\u001b[1;33m[\u001b[0m\u001b[1;34m\"smiles\"\u001b[0m\u001b[1;33m]\u001b[0m\u001b[1;33m:\u001b[0m\u001b[1;33m\u001b[0m\u001b[1;33m\u001b[0m\u001b[0m\n\u001b[1;32m----> 7\u001b[1;33m     \u001b[0mm\u001b[0m \u001b[1;33m=\u001b[0m \u001b[0mChem\u001b[0m\u001b[1;33m.\u001b[0m\u001b[0mMolFromSmiles\u001b[0m\u001b[1;33m(\u001b[0m\u001b[0msmiles\u001b[0m\u001b[1;33m)\u001b[0m\u001b[1;33m\u001b[0m\u001b[1;33m\u001b[0m\u001b[0m\n\u001b[0m\u001b[0;32m      8\u001b[0m     \u001b[0mfps\u001b[0m \u001b[1;33m=\u001b[0m \u001b[0mAllChem\u001b[0m\u001b[1;33m.\u001b[0m\u001b[0mGetMorganFingerprintAsBitVect\u001b[0m\u001b[1;33m(\u001b[0m\u001b[0mm\u001b[0m\u001b[1;33m,\u001b[0m \u001b[1;36m4\u001b[0m\u001b[1;33m,\u001b[0m \u001b[0mnBits\u001b[0m\u001b[1;33m=\u001b[0m\u001b[1;36m2048\u001b[0m\u001b[1;33m)\u001b[0m\u001b[1;33m\u001b[0m\u001b[1;33m\u001b[0m\u001b[0m\n\u001b[0;32m      9\u001b[0m     \u001b[0mdesc_mat\u001b[0m\u001b[1;33m[\u001b[0m\u001b[0mi\u001b[0m\u001b[1;33m]\u001b[0m \u001b[1;33m=\u001b[0m \u001b[0mfps\u001b[0m\u001b[1;33m\u001b[0m\u001b[1;33m\u001b[0m\u001b[0m\n",
      "\u001b[1;31mNameError\u001b[0m: name 'Chem' is not defined"
     ]
    }
   ],
   "source": [
    "fp_length = 2048\n",
    "desc_mat = np.zeros((len(x[\"smiles\"]), fp_length))\n",
    "smiles_list = []\n",
    "i = 0\n",
    "\n",
    "for smiles in x[\"smiles\"]:\n",
    "    m = Chem.MolFromSmiles(smiles)\n",
    "    fps = AllChem.GetMorganFingerprintAsBitVect(m, 4, nBits=2048)\n",
    "    desc_mat[i] = fps\n",
    "    i+=1"
   ]
  },
  {
   "cell_type": "code",
   "execution_count": 9,
   "metadata": {},
   "outputs": [],
   "source": [
    "x = pd.DataFrame(desc_mat)\n",
    "x.to_csv(\"data/train_tidy_2048.csv\", encoding='utf-8')"
   ]
  },
  {
   "cell_type": "code",
   "execution_count": 11,
   "metadata": {},
   "outputs": [
    {
     "name": "stderr",
     "output_type": "stream",
     "text": [
      "RDKit WARNING: [17:35:49] WARNING: not removing hydrogen atom without neighbors\n",
      "RDKit WARNING: [17:35:49] WARNING: not removing hydrogen atom without neighbors\n",
      "RDKit WARNING: [17:35:51] WARNING: not removing hydrogen atom without neighbors\n",
      "RDKit WARNING: [17:35:51] WARNING: not removing hydrogen atom without neighbors\n"
     ]
    }
   ],
   "source": [
    "fp_length = 2048\n",
    "desc_mat2 = np.zeros((len(x_real_test[\"smiles\"]), fp_length))\n",
    "smiles_list = []\n",
    "i = 0\n",
    "\n",
    "for smiles in x_real_test[\"smiles\"]:\n",
    "    m = Chem.MolFromSmiles(smiles)\n",
    "    fps = AllChem.GetMorganFingerprintAsBitVect(m, 4, nBits=2048)\n",
    "    desc_mat2[i] = fps\n",
    "    i+=1"
   ]
  },
  {
   "cell_type": "code",
   "execution_count": 12,
   "metadata": {},
   "outputs": [],
   "source": [
    "x_real_test = pd.DataFrame(desc_mat2)\n",
    "x_real_test.to_csv(\"data/test_tidy_2048.csv\", encoding='utf-8')"
   ]
  },
  {
   "cell_type": "code",
   "execution_count": 13,
   "metadata": {},
   "outputs": [],
   "source": [
    "## Task 1\n",
    "########################\n",
    "x1 = x.assign(task1=y1)\n",
    "x1 = x1[x1.task1 != 0]\n",
    "y1 = x1[\"task1\"]\n",
    "x1 = x1.drop('task1', 1)\n",
    "# Task 2\n",
    "###########################\n",
    "x2 = x.assign(task2=y2)\n",
    "x2 = x2[x2.task2 != 0]\n",
    "y2 = x2[\"task2\"]\n",
    "x2 = x2.drop('task2', 1)\n",
    "# Task 3\n",
    "###########################\n",
    "x3 = x.assign(task3=y3)\n",
    "x3 = x3[x3.task3 != 0]\n",
    "y3 = x3[\"task3\"]\n",
    "x3 = x3.drop('task3', 1)\n",
    "# Task 4\n",
    "###########################\n",
    "x4 = x.assign(task4=y4)\n",
    "x4 = x4[x4.task4 != 0]\n",
    "y4 = x4[\"task4\"]\n",
    "x4 = x4.drop('task4', 1)\n",
    "# Task 5\n",
    "###########################\n",
    "x5 = x.assign(task5=y5)\n",
    "x5 = x5[x5.task5 != 0]\n",
    "y5 = x5[\"task5\"]\n",
    "x5 = x5.drop('task5', 1)\n",
    "# Task 6\n",
    "###########################\n",
    "x6 = x.assign(task6=y6)\n",
    "x6 = x6[x6.task6 != 0]\n",
    "y6 = x6[\"task6\"]\n",
    "x6 = x6.drop('task6', 1)\n",
    "# Task 7\n",
    "###########################\n",
    "x7 = x.assign(task7=y7)\n",
    "x7 = x7[x7.task7 != 0]\n",
    "y7 = x7[\"task7\"]\n",
    "x7 = x7.drop('task7', 1)\n",
    "# Task 8\n",
    "###########################\n",
    "x8 = x.assign(task8=y8)\n",
    "x8 = x8[x8.task8 != 0]\n",
    "y8 = x8[\"task8\"]\n",
    "x8 = x8.drop('task8', 1)\n",
    "# Task 9\n",
    "###########################\n",
    "x9 = x.assign(task9=y9)\n",
    "x9 = x9[x9.task9 != 0]\n",
    "y9 = x9[\"task9\"]\n",
    "x9 = x9.drop('task9', 1)\n",
    "# Task 10\n",
    "###########################\n",
    "x10 = x.assign(task10=y10)\n",
    "x10 = x10[x10.task10 != 0]\n",
    "y10 = x10[\"task10\"]\n",
    "x10 = x10.drop('task10', 1)\n",
    "# Task 11\n",
    "###########################\n",
    "x11 = x.assign(task11=y11)\n",
    "x11 = x11[x11.task11 != 0]\n",
    "y11 = x11[\"task11\"]\n",
    "x11 = x11.drop('task11', 1)"
   ]
  },
  {
   "cell_type": "markdown",
   "metadata": {},
   "source": [
    "### Splitting into train and test data"
   ]
  },
  {
   "cell_type": "code",
   "execution_count": 14,
   "metadata": {},
   "outputs": [],
   "source": [
    "X_train, X_test, y_train, y_test = train_test_split(x2, y2, test_size=0.1, random_state = 42)"
   ]
  },
  {
   "cell_type": "markdown",
   "metadata": {},
   "source": [
    "### RandomForest"
   ]
  },
  {
   "cell_type": "code",
   "execution_count": 15,
   "metadata": {},
   "outputs": [],
   "source": [
    "rfc = RandomForestClassifier(criterion = 'gini',\n",
    " max_features = 'auto',\n",
    " min_samples_split = 2,\n",
    " n_estimators= 1000, random_state=42)"
   ]
  },
  {
   "cell_type": "code",
   "execution_count": 16,
   "metadata": {},
   "outputs": [
    {
     "data": {
      "text/plain": [
       "RandomForestClassifier(n_estimators=1000, random_state=42)"
      ]
     },
     "execution_count": 16,
     "metadata": {},
     "output_type": "execute_result"
    }
   ],
   "source": [
    "rfc.fit(X_train, y_train)"
   ]
  },
  {
   "cell_type": "code",
   "execution_count": 17,
   "metadata": {},
   "outputs": [],
   "source": [
    "yhat = rfc.predict_proba(X_test)"
   ]
  },
  {
   "cell_type": "code",
   "execution_count": 18,
   "metadata": {},
   "outputs": [
    {
     "data": {
      "text/plain": [
       "0.5833333333333333"
      ]
     },
     "execution_count": 18,
     "metadata": {},
     "output_type": "execute_result"
    }
   ],
   "source": [
    "roc_auc_score(y_test, yhat[:,1])"
   ]
  },
  {
   "cell_type": "code",
   "execution_count": null,
   "metadata": {},
   "outputs": [],
   "source": [
    "yhat"
   ]
  },
  {
   "cell_type": "markdown",
   "metadata": {},
   "source": [
    "### Easy Ensemble"
   ]
  },
  {
   "cell_type": "code",
   "execution_count": 19,
   "metadata": {},
   "outputs": [],
   "source": [
    "easyens = EasyEnsembleClassifier(n_estimators=100, sampling_strategy='auto', random_state=42)\n",
    "easyens.fit(X_train, y_train)"
   ]
  },
  {
   "cell_type": "code",
   "execution_count": null,
   "metadata": {},
   "outputs": [],
   "source": [
    "yhat = easyens.predict_proba(X_test)"
   ]
  },
  {
   "cell_type": "code",
   "execution_count": 20,
   "metadata": {},
   "outputs": [
    {
     "data": {
      "text/plain": [
       "0.6395833333333334"
      ]
     },
     "execution_count": 20,
     "metadata": {},
     "output_type": "execute_result"
    }
   ],
   "source": [
    "roc_auc_score(y_test, yhat[:,1])"
   ]
  },
  {
   "cell_type": "markdown",
   "metadata": {},
   "source": [
    "### Logistic regression"
   ]
  },
  {
   "cell_type": "code",
   "execution_count": 21,
   "metadata": {},
   "outputs": [],
   "source": [
    "clf = LogisticRegression(random_state=42)\n",
    "clf.fit(X_train, y_train)\n",
    "yhat = clf.predict_proba(X_test)"
   ]
  },
  {
   "cell_type": "code",
   "execution_count": 22,
   "metadata": {},
   "outputs": [
    {
     "data": {
      "text/plain": [
       "0.5583333333333333"
      ]
     },
     "execution_count": 22,
     "metadata": {},
     "output_type": "execute_result"
    }
   ],
   "source": [
    "roc_auc_score(y_test, yhat[:,1])"
   ]
  },
  {
   "cell_type": "markdown",
   "metadata": {},
   "source": [
    "### Stochastic Gradient Descent Classifier"
   ]
  },
  {
   "cell_type": "code",
   "execution_count": 23,
   "metadata": {},
   "outputs": [],
   "source": [
    "X_train, X_test, y_train, y_test = train_test_split(x1, y1, test_size = 0.1, random_state = 42)"
   ]
  },
  {
   "cell_type": "code",
   "execution_count": 24,
   "metadata": {},
   "outputs": [],
   "source": [
    "sgd = make_pipeline(StandardScaler(),SGDClassifier(max_iter=1000, tol=1e-3))\n",
    "sgd.fit(X_train, y_train)\n",
    "yhat = sgd.predict(X_test)"
   ]
  },
  {
   "cell_type": "code",
   "execution_count": 25,
   "metadata": {},
   "outputs": [
    {
     "data": {
      "text/plain": [
       "0.4947916666666667"
      ]
     },
     "execution_count": 25,
     "metadata": {},
     "output_type": "execute_result"
    }
   ],
   "source": [
    "roc_auc_score(y_test, yhat)"
   ]
  },
  {
   "cell_type": "markdown",
   "metadata": {},
   "source": [
    "### RandomForest Regressor"
   ]
  },
  {
   "cell_type": "code",
   "execution_count": 26,
   "metadata": {},
   "outputs": [],
   "source": [
    "regr = RandomForestRegressor(\n",
    " max_features = 'auto',\n",
    " min_samples_split = 2,\n",
    " random_state=42)\n",
    "\n",
    "regr.fit(X_train, y_train)\n",
    "\n",
    "yhat = regr.predict(X_test)"
   ]
  },
  {
   "cell_type": "code",
   "execution_count": 27,
   "metadata": {},
   "outputs": [
    {
     "data": {
      "text/plain": [
       "0.5895833333333333"
      ]
     },
     "execution_count": 27,
     "metadata": {},
     "output_type": "execute_result"
    }
   ],
   "source": [
    "roc_auc_score(y_test, yhat)"
   ]
  },
  {
   "cell_type": "markdown",
   "metadata": {},
   "source": [
    "### Support Vector regression"
   ]
  },
  {
   "cell_type": "code",
   "execution_count": 33,
   "metadata": {},
   "outputs": [],
   "source": [
    "X_train, X_test, y_train, y_test = train_test_split(x2, y2, test_size = 0.1, random_state = 42)"
   ]
  },
  {
   "cell_type": "code",
   "execution_count": 34,
   "metadata": {},
   "outputs": [],
   "source": [
    "svr = SVR(kernel='rbf')\n",
    "svr.fit(X_train, y_train)\n",
    "yhat = svr.predict(X_test)"
   ]
  },
  {
   "cell_type": "code",
   "execution_count": null,
   "metadata": {},
   "outputs": [],
   "source": [
    "bagg = BaggingRegressor(base_estimator=svr, n_estimators=100, random_state=42)\n",
    "bagg.fit(X_train, y_train)\n",
    "yhat = bagg.predict(X_test)"
   ]
  },
  {
   "cell_type": "code",
   "execution_count": 35,
   "metadata": {},
   "outputs": [
    {
     "data": {
      "text/plain": [
       "0.9229595728451564"
      ]
     },
     "execution_count": 35,
     "metadata": {},
     "output_type": "execute_result"
    }
   ],
   "source": [
    "roc_auc_score(y_test, yhat)"
   ]
  },
  {
   "cell_type": "markdown",
   "metadata": {},
   "source": [
    "### Write out single Task"
   ]
  },
  {
   "cell_type": "code",
   "execution_count": 36,
   "metadata": {},
   "outputs": [],
   "source": [
    "yhat = regr.predict(x_real_test)"
   ]
  },
  {
   "cell_type": "code",
   "execution_count": 37,
   "metadata": {},
   "outputs": [],
   "source": [
    "df = pd.DataFrame({'Task2': np.squeeze(yhat)})\n",
    "df.to_csv(\"data/Task2.csv\", encoding = \"utf-8\")"
   ]
  },
  {
   "cell_type": "markdown",
   "metadata": {},
   "source": [
    "### Writing out final submission file"
   ]
  },
  {
   "cell_type": "code",
   "execution_count": 38,
   "metadata": {},
   "outputs": [],
   "source": [
    "df1 = pd.read_csv('data/Task1.csv', encoding='utf-8')\n",
    "df2 = pd.read_csv('data/Task2.csv', encoding='utf-8')\n",
    "df3 = pd.read_csv('data/Task3.csv', encoding='utf-8')\n",
    "df4 = pd.read_csv('data/Task4.csv', encoding='utf-8')\n",
    "df5 = pd.read_csv('data/Task5.csv', encoding='utf-8')\n",
    "df6 = pd.read_csv('data/Task6.csv', encoding='utf-8')\n",
    "df7 = pd.read_csv('data/Task7.csv', encoding='utf-8')\n",
    "df8 = pd.read_csv('data/Task8.csv', encoding='utf-8')\n",
    "df9 = pd.read_csv('data/Task9.csv', encoding='utf-8')\n",
    "df10 = pd.read_csv('data/Task10.csv', encoding='utf-8')\n",
    "df11 = pd.read_csv('data/Task11.csv', encoding='utf-8')"
   ]
  },
  {
   "cell_type": "code",
   "execution_count": 39,
   "metadata": {},
   "outputs": [],
   "source": [
    "result = pd.concat([df1,df2,df3,df4,df5,df6,df7,df8,df9,df10,df11], axis = 1)"
   ]
  },
  {
   "cell_type": "code",
   "execution_count": 40,
   "metadata": {},
   "outputs": [],
   "source": [
    "result = result.drop(\"Unnamed: 0\", 1)"
   ]
  },
  {
   "cell_type": "code",
   "execution_count": 41,
   "metadata": {},
   "outputs": [
    {
     "data": {
      "text/html": [
       "<div>\n",
       "<style scoped>\n",
       "    .dataframe tbody tr th:only-of-type {\n",
       "        vertical-align: middle;\n",
       "    }\n",
       "\n",
       "    .dataframe tbody tr th {\n",
       "        vertical-align: top;\n",
       "    }\n",
       "\n",
       "    .dataframe thead th {\n",
       "        text-align: right;\n",
       "    }\n",
       "</style>\n",
       "<table border=\"1\" class=\"dataframe\">\n",
       "  <thead>\n",
       "    <tr style=\"text-align: right;\">\n",
       "      <th></th>\n",
       "      <th>Task1</th>\n",
       "      <th>Task2</th>\n",
       "      <th>Task3</th>\n",
       "      <th>Task4</th>\n",
       "      <th>Task5</th>\n",
       "      <th>Task6</th>\n",
       "      <th>Task7</th>\n",
       "      <th>Task8</th>\n",
       "      <th>Task9</th>\n",
       "      <th>Task10</th>\n",
       "      <th>Task11</th>\n",
       "    </tr>\n",
       "  </thead>\n",
       "  <tbody>\n",
       "    <tr>\n",
       "      <th>0</th>\n",
       "      <td>-0.742852</td>\n",
       "      <td>-1.395433</td>\n",
       "      <td>0.899631</td>\n",
       "      <td>-0.839894</td>\n",
       "      <td>-0.039804</td>\n",
       "      <td>-0.704178</td>\n",
       "      <td>-1.012512</td>\n",
       "      <td>-0.981615</td>\n",
       "      <td>-0.948937</td>\n",
       "      <td>-0.915516</td>\n",
       "      <td>0.631902</td>\n",
       "    </tr>\n",
       "    <tr>\n",
       "      <th>1</th>\n",
       "      <td>-0.862828</td>\n",
       "      <td>-1.286897</td>\n",
       "      <td>0.813343</td>\n",
       "      <td>-0.858959</td>\n",
       "      <td>-0.514096</td>\n",
       "      <td>-0.992745</td>\n",
       "      <td>-0.800755</td>\n",
       "      <td>-1.068425</td>\n",
       "      <td>-0.881135</td>\n",
       "      <td>-0.974552</td>\n",
       "      <td>0.678699</td>\n",
       "    </tr>\n",
       "    <tr>\n",
       "      <th>2</th>\n",
       "      <td>-0.882828</td>\n",
       "      <td>-0.457134</td>\n",
       "      <td>0.968142</td>\n",
       "      <td>-0.838995</td>\n",
       "      <td>0.227652</td>\n",
       "      <td>-0.787466</td>\n",
       "      <td>-0.616785</td>\n",
       "      <td>-0.904033</td>\n",
       "      <td>0.873555</td>\n",
       "      <td>-0.788663</td>\n",
       "      <td>0.629753</td>\n",
       "    </tr>\n",
       "    <tr>\n",
       "      <th>3</th>\n",
       "      <td>-0.873163</td>\n",
       "      <td>0.015966</td>\n",
       "      <td>0.358239</td>\n",
       "      <td>-0.611924</td>\n",
       "      <td>-0.049521</td>\n",
       "      <td>-0.514040</td>\n",
       "      <td>-0.683943</td>\n",
       "      <td>-0.894183</td>\n",
       "      <td>-0.405241</td>\n",
       "      <td>-0.700788</td>\n",
       "      <td>0.581598</td>\n",
       "    </tr>\n",
       "    <tr>\n",
       "      <th>4</th>\n",
       "      <td>-0.757547</td>\n",
       "      <td>-1.029903</td>\n",
       "      <td>0.656265</td>\n",
       "      <td>-0.945045</td>\n",
       "      <td>0.057284</td>\n",
       "      <td>-0.874514</td>\n",
       "      <td>-0.912991</td>\n",
       "      <td>-0.947193</td>\n",
       "      <td>-0.752129</td>\n",
       "      <td>-1.004754</td>\n",
       "      <td>0.595815</td>\n",
       "    </tr>\n",
       "    <tr>\n",
       "      <th>...</th>\n",
       "      <td>...</td>\n",
       "      <td>...</td>\n",
       "      <td>...</td>\n",
       "      <td>...</td>\n",
       "      <td>...</td>\n",
       "      <td>...</td>\n",
       "      <td>...</td>\n",
       "      <td>...</td>\n",
       "      <td>...</td>\n",
       "      <td>...</td>\n",
       "      <td>...</td>\n",
       "    </tr>\n",
       "    <tr>\n",
       "      <th>5891</th>\n",
       "      <td>-0.801528</td>\n",
       "      <td>-0.867873</td>\n",
       "      <td>0.602342</td>\n",
       "      <td>-0.866244</td>\n",
       "      <td>-0.228987</td>\n",
       "      <td>-0.480668</td>\n",
       "      <td>-0.821685</td>\n",
       "      <td>-0.925958</td>\n",
       "      <td>-0.207946</td>\n",
       "      <td>-0.766232</td>\n",
       "      <td>0.467553</td>\n",
       "    </tr>\n",
       "    <tr>\n",
       "      <th>5892</th>\n",
       "      <td>-0.886803</td>\n",
       "      <td>-1.239520</td>\n",
       "      <td>0.719701</td>\n",
       "      <td>-0.977708</td>\n",
       "      <td>-0.675875</td>\n",
       "      <td>-0.868945</td>\n",
       "      <td>-0.972626</td>\n",
       "      <td>-0.934180</td>\n",
       "      <td>-0.870498</td>\n",
       "      <td>-0.953436</td>\n",
       "      <td>0.614700</td>\n",
       "    </tr>\n",
       "    <tr>\n",
       "      <th>5893</th>\n",
       "      <td>-0.912406</td>\n",
       "      <td>-1.059589</td>\n",
       "      <td>0.271196</td>\n",
       "      <td>-0.937613</td>\n",
       "      <td>-0.452848</td>\n",
       "      <td>-0.894104</td>\n",
       "      <td>-1.012415</td>\n",
       "      <td>-1.024666</td>\n",
       "      <td>-0.228220</td>\n",
       "      <td>-0.834554</td>\n",
       "      <td>0.282518</td>\n",
       "    </tr>\n",
       "    <tr>\n",
       "      <th>5894</th>\n",
       "      <td>-0.891093</td>\n",
       "      <td>-1.110752</td>\n",
       "      <td>0.596486</td>\n",
       "      <td>-0.983428</td>\n",
       "      <td>-0.597291</td>\n",
       "      <td>-0.905428</td>\n",
       "      <td>-1.003643</td>\n",
       "      <td>-1.007930</td>\n",
       "      <td>0.155268</td>\n",
       "      <td>-0.925741</td>\n",
       "      <td>0.172069</td>\n",
       "    </tr>\n",
       "    <tr>\n",
       "      <th>5895</th>\n",
       "      <td>-0.894752</td>\n",
       "      <td>-0.515127</td>\n",
       "      <td>0.130821</td>\n",
       "      <td>-0.828603</td>\n",
       "      <td>0.183864</td>\n",
       "      <td>-0.715251</td>\n",
       "      <td>-0.801674</td>\n",
       "      <td>-0.923251</td>\n",
       "      <td>-0.931207</td>\n",
       "      <td>-0.908200</td>\n",
       "      <td>0.652308</td>\n",
       "    </tr>\n",
       "  </tbody>\n",
       "</table>\n",
       "<p>5896 rows × 11 columns</p>\n",
       "</div>"
      ],
      "text/plain": [
       "         Task1     Task2     Task3     Task4     Task5     Task6     Task7  \\\n",
       "0    -0.742852 -1.395433  0.899631 -0.839894 -0.039804 -0.704178 -1.012512   \n",
       "1    -0.862828 -1.286897  0.813343 -0.858959 -0.514096 -0.992745 -0.800755   \n",
       "2    -0.882828 -0.457134  0.968142 -0.838995  0.227652 -0.787466 -0.616785   \n",
       "3    -0.873163  0.015966  0.358239 -0.611924 -0.049521 -0.514040 -0.683943   \n",
       "4    -0.757547 -1.029903  0.656265 -0.945045  0.057284 -0.874514 -0.912991   \n",
       "...        ...       ...       ...       ...       ...       ...       ...   \n",
       "5891 -0.801528 -0.867873  0.602342 -0.866244 -0.228987 -0.480668 -0.821685   \n",
       "5892 -0.886803 -1.239520  0.719701 -0.977708 -0.675875 -0.868945 -0.972626   \n",
       "5893 -0.912406 -1.059589  0.271196 -0.937613 -0.452848 -0.894104 -1.012415   \n",
       "5894 -0.891093 -1.110752  0.596486 -0.983428 -0.597291 -0.905428 -1.003643   \n",
       "5895 -0.894752 -0.515127  0.130821 -0.828603  0.183864 -0.715251 -0.801674   \n",
       "\n",
       "         Task8     Task9    Task10    Task11  \n",
       "0    -0.981615 -0.948937 -0.915516  0.631902  \n",
       "1    -1.068425 -0.881135 -0.974552  0.678699  \n",
       "2    -0.904033  0.873555 -0.788663  0.629753  \n",
       "3    -0.894183 -0.405241 -0.700788  0.581598  \n",
       "4    -0.947193 -0.752129 -1.004754  0.595815  \n",
       "...        ...       ...       ...       ...  \n",
       "5891 -0.925958 -0.207946 -0.766232  0.467553  \n",
       "5892 -0.934180 -0.870498 -0.953436  0.614700  \n",
       "5893 -1.024666 -0.228220 -0.834554  0.282518  \n",
       "5894 -1.007930  0.155268 -0.925741  0.172069  \n",
       "5895 -0.923251 -0.931207 -0.908200  0.652308  \n",
       "\n",
       "[5896 rows x 11 columns]"
      ]
     },
     "execution_count": 41,
     "metadata": {},
     "output_type": "execute_result"
    }
   ],
   "source": [
    "result"
   ]
  },
  {
   "cell_type": "code",
   "execution_count": null,
   "metadata": {},
   "outputs": [],
   "source": [
    "result.to_csv(\"data/tutor_submission.csv\", encoding='utf-8')"
   ]
  },
  {
   "cell_type": "markdown",
   "metadata": {},
   "source": [
    "### GridSearch Pipeline"
   ]
  },
  {
   "cell_type": "code",
   "execution_count": null,
   "metadata": {},
   "outputs": [],
   "source": [
    "parameters = {\n",
    "    \"loss\":[\"deviance\"],\n",
    "    \"learning_rate\": [0.01, 0.025, 0.05, 0.075, 0.1, 0.15, 0.2],\n",
    "    \"min_samples_split\": np.linspace(0.1, 0.5, 12),\n",
    "    \"min_samples_leaf\": np.linspace(0.1, 0.5, 12),\n",
    "    \"max_depth\":[3,5,8],\n",
    "    \"max_features\":[\"log2\",\"sqrt\"],\n",
    "    \"criterion\": [\"friedman_mse\",  \"mae\"],\n",
    "    \"subsample\":[0.5, 0.618, 0.8, 0.85, 0.9, 0.95, 1.0],\n",
    "    \"n_estimators\":[10, 20]\n",
    "    }\n",
    "\n",
    "clf = GridSearchCV(GradientBoostingClassifier(), parameters, cv=10)\n",
    "\n",
    "clf.fit(X_train, y_train)\n",
    "print(clf.score(X_train, y_train))\n",
    "print(clf.best_params_)"
   ]
  }
 ],
 "metadata": {
  "kernelspec": {
   "display_name": "Python 3",
   "language": "python",
   "name": "python3"
  },
  "language_info": {
   "codemirror_mode": {
    "name": "ipython",
    "version": 3
   },
   "file_extension": ".py",
   "mimetype": "text/x-python",
   "name": "python",
   "nbconvert_exporter": "python",
   "pygments_lexer": "ipython3",
   "version": "3.8.5"
  }
 },
 "nbformat": 4,
 "nbformat_minor": 4
}
